{
 "cells": [
  {
   "cell_type": "code",
   "execution_count": 1,
   "metadata": {},
   "outputs": [],
   "source": [
    "# pip install bs4\n",
    "# pip install requests\n",
    "# pip install selenium\n",
    "# pip install webdriver-manager"
   ]
  },
  {
   "cell_type": "code",
   "execution_count": 1,
   "metadata": {},
   "outputs": [
    {
     "name": "stderr",
     "output_type": "stream",
     "text": [
      "/Users/catherineback/Library/Python/3.9/lib/python/site-packages/urllib3/__init__.py:35: NotOpenSSLWarning: urllib3 v2 only supports OpenSSL 1.1.1+, currently the 'ssl' module is compiled with 'LibreSSL 2.8.3'. See: https://github.com/urllib3/urllib3/issues/3020\n",
      "  warnings.warn(\n"
     ]
    }
   ],
   "source": [
    "#Import Packages\n",
    "\n",
    "from selenium import webdriver\n",
    "from selenium.webdriver.chrome.service import Service\n",
    "from selenium.webdriver.common.by import By\n",
    "from selenium.webdriver.chrome.options import Options\n",
    "from webdriver_manager.chrome import ChromeDriverManager\n",
    "from bs4 import BeautifulSoup\n",
    "import time"
   ]
  },
  {
   "cell_type": "code",
   "execution_count": 2,
   "metadata": {},
   "outputs": [],
   "source": [
    "# Amazon Store Page URL\n",
    "url = \"https://www.amazon.com/stores/page/8FA55D0F-CA6F-41DF-90BC-C9D7051D1468?ingress=0&visitId=d24e4593-e32f-49c6-ae3b-b99a27da5169&lp_query=magnaflow&lp_slot=auto-sparkle-hsa-tetris&store_ref=SB_A07646233EC6Q0UYGK76A-A100519124MP9ZXF0FWA0&ref_=sbx_be_s_sparkle_lsi4d_cta\""
   ]
  },
  {
   "cell_type": "code",
   "execution_count": 3,
   "metadata": {},
   "outputs": [],
   "source": [
    "# Set up Selenium WebDriver\n",
    "options = Options()\n",
    "options.add_argument(\"--headless\")  # Run in headless mode (no browser UI)\n",
    "options.add_argument(\"--disable-blink-features=AutomationControlled\")  # Bypass bot detection\n",
    "options.add_argument(\"--log-level=3\")  # Suppress logs"
   ]
  },
  {
   "cell_type": "code",
   "execution_count": 4,
   "metadata": {},
   "outputs": [],
   "source": [
    "service = Service(ChromeDriverManager().install())\n",
    "driver = webdriver.Chrome(service=service, options=options)\n",
    "driver.get(url)\n",
    "time.sleep(5)"
   ]
  },
  {
   "cell_type": "code",
   "execution_count": 5,
   "metadata": {},
   "outputs": [],
   "source": [
    "soup = BeautifulSoup(driver.page_source, \"html.parser\")"
   ]
  },
  {
   "cell_type": "markdown",
   "metadata": {},
   "source": [
    "### Once Information Collected, Parse for Data:"
   ]
  },
  {
   "cell_type": "code",
   "execution_count": 25,
   "metadata": {},
   "outputs": [
    {
     "data": {
      "text/plain": [
       "[<a aria-label='Customer reviews for MagnaFlow Catalytic Converter 447206: 2.5\"/2.5\" Inlet/Outlet, California Grade, Universal Fit (CARB Compliant), 3.9 out of 5 stars, 105 reviews' class=\"ProductShowcase__rating__Wi83c\" data-testid=\"product-showcase-rating\" href=\"/MagnaFlow-447206-Universal-Catalytic-Converter/dp/B007C800XU?ref_=ast_sto_dp#customerReviews\" title=\"3.9 out of 5 stars\"><span class=\"ProductShowcase__review-value__vT4F3\">3.9</span><i class=\"rio-stars rio-stars-medium rio-stars-icon-medium-4 ProductShowcase__review-stars__JovH0 [object Object]\" data-testid=\"icon-rio-stars\"><span aria-hidden=\"true\" class=\"icon-alt-text\">3.9 out of 5 stars</span></i><span class=\"ProductShowcase__review-count__poeJ4\">105</span></a>,\n",
       " <a aria-label=\"Customer reviews for MagnaFlow Universal Catalytic Converter California Grade CARB Compliant 445006 - Stainless Steel 2.5in Inlet/Outlet Diameter, 16in Overall Length, No O2 Sensor - CA Legal Replacement, 4.2 out of 5 stars, 26 reviews\" class=\"ProductShowcase__rating__Wi83c\" data-testid=\"product-showcase-rating\" href=\"/MagnaFlow-445006-Universal-Catalytic-Converter/dp/B00AURRN2Q?ref_=ast_sto_dp#customerReviews\" title=\"4.2 out of 5 stars\"><span class=\"ProductShowcase__review-value__vT4F3\">4.2</span><i class=\"rio-stars rio-stars-medium rio-stars-icon-medium-4 ProductShowcase__review-stars__JovH0 [object Object]\" data-testid=\"icon-rio-stars\"><span aria-hidden=\"true\" class=\"icon-alt-text\">4.2 out of 5 stars</span></i><span class=\"ProductShowcase__review-count__poeJ4\">26</span></a>,\n",
       " <a aria-label='Customer reviews for MagnaFlow Catalytic Converter 334106: 2.5\"/2.5\" Inlet/Outlet, California Grade, Universal Fit (CARB Compliant), 3.5 out of 5 stars, 19 reviews' class=\"ProductShowcase__rating__Wi83c\" data-testid=\"product-showcase-rating\" href=\"/MagnaFlow-334106-Universal-Catalytic-Converter/dp/B00BF2WS7A?ref_=ast_sto_dp#customerReviews\" title=\"3.5 out of 5 stars\"><span class=\"ProductShowcase__review-value__vT4F3\">3.5</span><i class=\"rio-stars rio-stars-medium rio-stars-icon-medium-3-5 ProductShowcase__review-stars__JovH0 [object Object]\" data-testid=\"icon-rio-stars\"><span aria-hidden=\"true\" class=\"icon-alt-text\">3.5 out of 5 stars</span></i><span class=\"ProductShowcase__review-count__poeJ4\">19</span></a>,\n",
       " <a aria-label='Customer reviews for MagnaFlow Catalytic Converter 408005: 2.25\"/2.25\" Inlet/Outlet, California Grade, Universal Fit (CARB Compliant), 5.0 out of 5 stars, 7 reviews' class=\"ProductShowcase__rating__Wi83c\" data-testid=\"product-showcase-rating\" href=\"/MagnaFlow-408005-Universal-Catalytic-Converter/dp/B00FG9NOVC?ref_=ast_sto_dp#customerReviews\" title=\"5.0 out of 5 stars\"><span class=\"ProductShowcase__review-value__vT4F3\">5</span><i class=\"rio-stars rio-stars-medium rio-stars-icon-medium-5 ProductShowcase__review-stars__JovH0 [object Object]\" data-testid=\"icon-rio-stars\"><span aria-hidden=\"true\" class=\"icon-alt-text\">5.0 out of 5 stars</span></i><span class=\"ProductShowcase__review-count__poeJ4\">7</span></a>,\n",
       " <a aria-label='Customer reviews for MagnaFlow Catalytic Converter 408034: 2\"/2\" Inlet/Outlet, California Grade, Universal Fit (CARB Compliant), 4.3 out of 5 stars, 30 reviews' class=\"ProductShowcase__rating__Wi83c\" data-testid=\"product-showcase-rating\" href=\"/MagnaFlow-408034-Universal-Catalytic-Converter/dp/B00FG9NO08?ref_=ast_sto_dp#customerReviews\" title=\"4.3 out of 5 stars\"><span class=\"ProductShowcase__review-value__vT4F3\">4.3</span><i class=\"rio-stars rio-stars-medium rio-stars-icon-medium-4-5 ProductShowcase__review-stars__JovH0 [object Object]\" data-testid=\"icon-rio-stars\"><span aria-hidden=\"true\" class=\"icon-alt-text\">4.3 out of 5 stars</span></i><span class=\"ProductShowcase__review-count__poeJ4\">30</span></a>,\n",
       " <a aria-label='Customer reviews for MagnaFlow Catalytic Converter 445300: 3\"/3\" Inlet/Outlet, California Grade, Universal Fit (CARB Compliant), 4.4 out of 5 stars, 7 reviews' class=\"ProductShowcase__rating__Wi83c\" data-testid=\"product-showcase-rating\" href=\"/MagnaFlow-445300-Universal-Catalytic-Converter/dp/B0099XI8IU?ref_=ast_sto_dp#customerReviews\" title=\"4.4 out of 5 stars\"><span class=\"ProductShowcase__review-value__vT4F3\">4.4</span><i class=\"rio-stars rio-stars-medium rio-stars-icon-medium-4-5 ProductShowcase__review-stars__JovH0 [object Object]\" data-testid=\"icon-rio-stars\"><span aria-hidden=\"true\" class=\"icon-alt-text\">4.4 out of 5 stars</span></i><span class=\"ProductShowcase__review-count__poeJ4\">7</span></a>,\n",
       " <a aria-label='Customer reviews for MagnaFlow Catalytic Converter 418005: 2.25\"/2.25\" Inlet/Outlet, California Grade, Universal Fit (CARB Compliant), 3.9 out of 5 stars, 21 reviews' class=\"ProductShowcase__rating__Wi83c\" data-testid=\"product-showcase-rating\" href=\"/MagnaFlow-418005-Universal-Catalytic-Converter/dp/B00PNWP9QU?ref_=ast_sto_dp#customerReviews\" title=\"3.9 out of 5 stars\"><span class=\"ProductShowcase__review-value__vT4F3\">3.9</span><i class=\"rio-stars rio-stars-medium rio-stars-icon-medium-4 ProductShowcase__review-stars__JovH0 [object Object]\" data-testid=\"icon-rio-stars\"><span aria-hidden=\"true\" class=\"icon-alt-text\">3.9 out of 5 stars</span></i><span class=\"ProductShowcase__review-count__poeJ4\">21</span></a>,\n",
       " <a aria-label='Customer reviews for MagnaFlow Catalytic Converter 339301: 3\"/3\" Inlet/Outlet, California Grade, Universal Fit (CARB Compliant), 5.0 out of 5 stars, 6 reviews' class=\"ProductShowcase__rating__Wi83c\" data-testid=\"product-showcase-rating\" href=\"/Magnaflow-339301-Direct-Fit-Catalytic-Converter/dp/B08YP9KV2T?ref_=ast_sto_dp#customerReviews\" title=\"5.0 out of 5 stars\"><span class=\"ProductShowcase__review-value__vT4F3\">5</span><i class=\"rio-stars rio-stars-medium rio-stars-icon-medium-5 ProductShowcase__review-stars__JovH0 [object Object]\" data-testid=\"icon-rio-stars\"><span aria-hidden=\"true\" class=\"icon-alt-text\">5.0 out of 5 stars</span></i><span class=\"ProductShowcase__review-count__poeJ4\">6</span></a>]"
      ]
     },
     "execution_count": 25,
     "metadata": {},
     "output_type": "execute_result"
    }
   ],
   "source": [
    "links = soup.select(\"div.ProductShowcase__item-info__O4ir1.ProductShowcase__right__EVFT0.ProductShowcase__has-magnifier__TAs58 > a\")  # Adjust the selector based on the HTML structure\n",
    "\n",
    "links"
   ]
  },
  {
   "cell_type": "code",
   "execution_count": 22,
   "metadata": {},
   "outputs": [
    {
     "name": "stdout",
     "output_type": "stream",
     "text": [
      "$323.67\n",
      "$554.00\n",
      "$194.00\n",
      "$317.00\n",
      "$252.21\n",
      "$1,053.00\n",
      "$339.22\n",
      "$944.00\n"
     ]
    }
   ],
   "source": [
    "# Find all prices using a general selector\n",
    "prices = soup.select(\"div.ProductShowcase__price__OirtD > span\")  # Adjust the selector based on the HTML structure\n",
    "\n",
    "for price in prices:\n",
    "    print(price.text.strip())  # Print the price of each item\n"
   ]
  }
 ],
 "metadata": {
  "kernelspec": {
   "display_name": "Python 3",
   "language": "python",
   "name": "python3"
  },
  "language_info": {
   "codemirror_mode": {
    "name": "ipython",
    "version": 3
   },
   "file_extension": ".py",
   "mimetype": "text/x-python",
   "name": "python",
   "nbconvert_exporter": "python",
   "pygments_lexer": "ipython3",
   "version": "3.9.6"
  }
 },
 "nbformat": 4,
 "nbformat_minor": 2
}
